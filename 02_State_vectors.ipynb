{
 "cells": [
  {
   "cell_type": "markdown",
   "id": "485ecb9f-2373-40ce-8504-9f30d666ac81",
   "metadata": {},
   "source": [
    "# Exercise 2 - State vectors and single qubit gates\n",
    "\n",
    "In this exercise we consider the model of Quantum Computing for single qubit systems.\n",
    "We examine math and Qiskit code for representing state and operations on one qubit."
   ]
  },
  {
   "cell_type": "code",
   "execution_count": 1,
   "id": "9a040329-8c90-4e57-bc58-50248c8a82f3",
   "metadata": {},
   "outputs": [],
   "source": [
    "# imports and utilities\n",
    "from qiskit import QuantumCircuit\n",
    "from qiskit.quantum_info import Statevector\n",
    "from qiskit.providers.aer import AerSimulator\n",
    "import math"
   ]
  },
  {
   "cell_type": "markdown",
   "id": "dde372d9-793a-4323-bbc6-0712ca730287",
   "metadata": {
    "tags": []
   },
   "source": [
    "## Exercise 2.1 - State vectors\n",
    "\n",
    "Are these state vectors? In yes case, use the example to explain the terms amplitude and probability.\n",
    "\n",
    "- $\\begin{bmatrix}0.8\\\\0.2\\end{bmatrix}$,\n",
    "- $\\frac{1}{\\sqrt{2}}\\lvert 0\\rangle-\\frac{1}{\\sqrt{2}}\\lvert 1\\rangle$,\n",
    "- $\\begin{bmatrix}0\\\\i\\end{bmatrix}$,\n",
    "- $\\dfrac{e^{i\\pi}}{2}\\begin{bmatrix}\\sqrt{3}\\\\1\\end{bmatrix}$."
   ]
  },
  {
   "cell_type": "markdown",
   "id": "b274a512-04fa-4695-9869-d6d1699b9d5f",
   "metadata": {},
   "source": [
    "## Exercise 2.2 - Hadamard gate\n",
    "\n",
    "Consider the Hadamard gate $H=\\dfrac{1}{\\sqrt{2}}\\begin{bmatrix}1&1\\\\1&-1\\end{bmatrix}$.\n",
    "1. Discuss whether the Hadamard gate is unitary.\n",
    "2. Let the state vector $\\frac{\\sqrt{3}}{2}\\lvert 0\\rangle+\\frac{1}{2}\\lvert 1\\rangle$ be the input of an Hadamard gate. What is the output state vector?\n",
    "3. Let the state vector $-\\frac{1}{\\sqrt{2}}\\lvert 0\\rangle-\\frac{1}{\\sqrt{2}}\\lvert 1\\rangle$ be\n",
    "the output of an Hadamard gate. What has been the input, is it uniquely determined?"
   ]
  },
  {
   "cell_type": "markdown",
   "id": "9e1cfc0d-2125-4ba0-bdd6-8fac143bf48f",
   "metadata": {},
   "source": [
    "## Exercise 2.3 - Quantum matrix operation\n",
    "\n",
    "Consider the Rotation operator gate $R_y(\\theta)=\\begin{bmatrix}\\cos(\\theta/2)&-\\sin(\\theta/2)\\\\\\sin(\\theta/2)&\\cos(\\theta/2)\\end{bmatrix}$.\n",
    "\n",
    "1. Describe its effect on state vectors. Is there a geometrical interpretation?\n",
    "2. How can $R_y(\\theta)$ be used algorithmically to solve questions 2 and 3 of Exercise 2.2? ___Hint___: You need to find out a feasible value $\\theta$ and utilize the following quantum circuit:"
   ]
  },
  {
   "cell_type": "code",
   "execution_count": 2,
   "id": "f84cfe1d-94a7-4282-bfdc-c65ca5cff373",
   "metadata": {},
   "outputs": [
    {
     "data": {
      "image/png": "[encoded data removed]",
      "text/plain": [
       "<Figure size 193.726x84.28 with 1 Axes>"
      ]
     },
     "execution_count": 2,
     "metadata": {},
     "output_type": "execute_result"
    }
   ],
   "source": [
    "theta = 0 # set theta to a better value\n",
    "\n",
    "qc = QuantumCircuit(1)\n",
    "qc.ry(theta, 0)\n",
    "qc.h(0)\n",
    "Statevector(qc) # use the Statevector class to obtain the result\n",
    "\n",
    "qc.draw(output=\"mpl\")"
   ]
  },
  {
   "cell_type": "markdown",
   "id": "3d7790e0-a271-4fd9-8ef8-8d7c59e9e1d2",
   "metadata": {},
   "source": [
    "## Exercise 2.4 - A quantum dice simulator\n",
    "\n",
    "__Alice__ wants to roll a dice. At the moment, she does not have a dice available. Being smart, she opens her wallet and takes out three coins (one cent, two cent, five cent). She uses coin tosses to simulate a dice roll, using the following procedure:\n",
    "\n",
    "1. Flip all three coins and interpret the results as bit word of length 3 (positions given by coin value) to obtain an integer number $x,\\,0\\le x\\le 7$.\n",
    "2. If $1\\le x\\le 6$, take $x$ as result of a dice roll.\n",
    "3. Otherwise, repeat the flips.\n",
    "\n",
    "Assuming the coins are fair, would the dice roll be fair as well? How likely is it, that we need to flip all coins at least 10 times get a dice roll?\n",
    "\n",
    "__Bob__ wants to roll a dice. At the moment, he does not have a dice available - but a quantum computer. Mimic Alice's procedure by a classical algorithm executing a Qiskit circuit with 3 qubits."
   ]
  }
 ],
 "metadata": {
  "kernelspec": {
   "display_name": "Python 3 (ipykernel)",
   "language": "python",
   "name": "python3"
  },
  "language_info": {
   "codemirror_mode": {
    "name": "ipython",
    "version": 3
   },
   "file_extension": ".py",
   "mimetype": "text/x-python",
   "name": "python",
   "nbconvert_exporter": "python",
   "pygments_lexer": "ipython3",
   "version": "3.9.7"
  },
  "vscode": {
   "interpreter": {
    "hash": "b0fa6594d8f4cbf19f97940f81e996739fb7646882a419484c72d19e05852a7e"
   }
  }
 },
 "nbformat": 4,
 "nbformat_minor": 5
}
