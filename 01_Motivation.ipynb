{
 "cells": [
  {
   "attachments": {},
   "cell_type": "markdown",
   "id": "c61cbe4a-26d2-4b32-af81-ab2c1dcbda2d",
   "metadata": {},
   "source": [
    "# Exercise 1 - Motivation and Foundations\n",
    "\n",
    "## Administration\n",
    "\n",
    "- JupyterHub (nbgitpuller link):\n",
    "[https://hszg-jupyter.inf.hszg.de/hub/user-redirect/git-pull?repo=https%3A%2F%2Fgithub.com%2Foremark24%2Fqc-tud-2023&urlpath=tree%2Fqc-tud-2023%2F&branch=main](https://hszg-jupyter.inf.hszg.de/hub/user-redirect/git-pull?repo=https%3A%2F%2Fgithub.com%2Foremark24%2Fqc-tud-2023&urlpath=tree%2Fqc-tud-2023%2F&branch=main)\n",
    "[![](qr_code_jupyterhub.png)](https://hszg-jupyter.inf.hszg.de/hub/user-redirect/git-pull?repo=https%3A%2F%2Fgithub.com%2Foremark24%2Fqc-tud-2023&urlpath=tree%2Fqc-tud-2023%2F&branch=main)\n",
    "- Instructor: [Markus Wappler](mailto:markus.wappler@iosb-ast.fraunhofer.de)\n",
    "\n",
    "## Useful material\n",
    "\n",
    "### Quantum Computing\n",
    "- [Qiskit (SDK for Quantum Computing) Documentation](https://qiskit.org/documentation/getting_started.html)\n",
    "- [Qiskit Textbook (Introduction to Quantum Computing)](https://learn.qiskit.org/course/introduction/why-quantum-computing)\n",
    "\n",
    "### Python\n",
    "- [Documentation and tutorial](https://docs.python.org/3/index.html)\n",
    "\n",
    "### Complex numbers\n",
    "- [Wikipedia](https://en.wikipedia.org/wiki/Complex_number)"
   ]
  },
  {
   "attachments": {},
   "cell_type": "markdown",
   "id": "607d72d8-aeca-4a0a-b416-21a5f90f1409",
   "metadata": {},
   "source": [
    "## Exercise 1.1 - A first Quantum circuit\n",
    "\n",
    "<strong style=\"color:red\">Better idea: Plot your initials as in the QAOA talk for Quantum Warsaw</strong>\n",
    "* First: plot one letter (easy, no superposition needed)\n",
    "* Then: plot initials (harder, as a superposition is needed)\n",
    "\n",
    "Discuss the following Qiskit code (next cell) and represented circuit.\n",
    "1. What are the parts of the circuit (how does it compare to classical algorithms)?\n",
    "2. What is the expected behavior?\n",
    "3. Add quantum gates to execute simultaneous toss of 2 coins."
   ]
  },
  {
   "cell_type": "code",
   "execution_count": 1,
   "id": "5429f750-21de-44ea-9eda-6b48b1998655",
   "metadata": {},
   "outputs": [
    {
     "data": {
      "image/png": "[encoded data removed]",
      "text/plain": [
       "<Figure size 287.294x284.278 with 1 Axes>"
      ]
     },
     "metadata": {},
     "output_type": "display_data"
    },
    {
     "data": {
      "image/png": "[encoded data removed]",
      "text/plain": [
       "<Figure size 700x500 with 1 Axes>"
      ]
     },
     "metadata": {},
     "output_type": "display_data"
    }
   ],
   "source": [
    "from qiskit import QuantumCircuit\n",
    "from qiskit_aer import AerSimulator\n",
    "from qiskit.visualization import plot_histogram\n",
    "\n",
    "qc = QuantumCircuit(2,2)\n",
    "\n",
    "######################\n",
    "# put your code here #\n",
    "######################\n",
    "\n",
    "qc.measure(0,0)\n",
    "qc.measure(1,1)\n",
    "display(qc.draw(output='mpl'))\n",
    "\n",
    "backend = AerSimulator(shots=1024)\n",
    "job = backend.run(qc)\n",
    "result = job.result()\n",
    "counts = result.get_counts()\n",
    "display(plot_histogram(counts))"
   ]
  },
  {
   "attachments": {},
   "cell_type": "markdown",
   "id": "5436620b-edbf-4c42-a1d6-6a66021ffb40",
   "metadata": {},
   "source": [
    "## Exercise 1.2 - Theory behind the calculation\n",
    "\n",
    "Execute the calculation of Excercise 1.1 \"by hand\".\n",
    "1. Use matrix vector multiplication.\n",
    "2. Use Dirac notation."
   ]
  },
  {
   "attachments": {},
   "cell_type": "markdown",
   "id": "together-saint",
   "metadata": {},
   "source": [
    "## Exercise 1.3 - Complex numbers\n",
    "\n",
    "This exercise should refresh your knowledge and proficiency with complex numbers. \n",
    "Given $x=3+4i$ and $y=2−i$:\n",
    "\n",
    "1. Compute\n",
    "    - $x+y$\n",
    "    - $x\\cdot y$\n",
    "    - $\\overline{x}$ (complex conjugate of $x$)\n",
    "    - $\\overline{\\overline{x}}$ (complex conjugate of complex conjugate of $x$)\n",
    "    - $|x|$ and $\\arg(x)$ (argument), such that $x=|x|e^{i\\arg(x)}$\n",
    "    - $x\\cdot\\overline{x}$\n",
    "    - $\\dfrac{1}{x}$\n",
    "    \n",
    "2. Draw $x$ in the complex plane, and interpret $\\overline{x}$, $|x|$ and $\\arg(x)$ geometrically.\n",
    "\n",
    "3. How can we construct $x+y$ and $x\\cdot y$ geometrically in the complex plane?"
   ]
  }
 ],
 "metadata": {
  "kernelspec": {
   "display_name": "Python 3 (ipykernel)",
   "language": "python",
   "name": "python3"
  },
  "language_info": {
   "codemirror_mode": {
    "name": "ipython",
    "version": 3
   },
   "file_extension": ".py",
   "mimetype": "text/x-python",
   "name": "python",
   "nbconvert_exporter": "python",
   "pygments_lexer": "ipython3",
   "version": "3.9.7"
  },
  "vscode": {
   "interpreter": {
    "hash": "b0fa6594d8f4cbf19f97940f81e996739fb7646882a419484c72d19e05852a7e"
   }
  },
  "widgets": {
   "application/vnd.jupyter.widget-state+json": {
    "state": {},
    "version_major": 2,
    "version_minor": 0
   }
  }
 },
 "nbformat": 4,
 "nbformat_minor": 5
}
