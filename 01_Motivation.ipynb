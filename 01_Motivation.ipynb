{
 "cells": [
  {
   "cell_type": "markdown",
   "id": "c61cbe4a-26d2-4b32-af81-ab2c1dcbda2d",
   "metadata": {},
   "source": [
    "# **Exercise 1** Motivation and Foundations\n",
    "\n",
    "This first exercise aims to familiarize with tools for Quantum computing. We will\n",
    "- define and play around with first Quantum circuits,\n",
    "- grant room to recall Python and complex numbers.\n",
    "\n",
    "## Useful material\n",
    "\n",
    "### Quantum Computing\n",
    "- [Qiskit (SDK for Quantum Computing) Documentation](https://qiskit.org/documentation/getting_started.html)\n",
    "- [Qiskit Textbook (Introduction to Quantum Computing)](https://learn.qiskit.org/course/introduction/why-quantum-computing)\n",
    "\n",
    "### Python\n",
    "- [Documentation and tutorial](https://docs.python.org/3/index.html)\n",
    "- [Complex class (built-in complex numbers)](https://docs.python.org/3/library/numbers.html?highlight=complex#numbers.Complex)\n",
    "- [cmath (complex math package)](https://docs.python.org/3/library/cmath.html)\n",
    "\n",
    "### Complex numbers\n",
    "- [Wikipedia](https://en.wikipedia.org/wiki/Complex_number)"
   ]
  },
  {
   "cell_type": "code",
   "execution_count": 5,
   "id": "a7663b56-e470-468d-b02f-5e7a1cbaa001",
   "metadata": {},
   "outputs": [],
   "source": [
    "# imports and utilities\n",
    "from qiskit import QuantumCircuit\n",
    "from qiskit.providers.aer import AerSimulator\n",
    "import math\n",
    "import cmath\n",
    "from string import Template\n",
    "from IPython.display import Math\n",
    "import matplotlib.pyplot as plt\n",
    "\n",
    "def display_math(term, subs):\n",
    "    latex = Template(term).substitute(**subs)\n",
    "    display(Math(latex))"
   ]
  },
  {
   "cell_type": "markdown",
   "id": "607d72d8-aeca-4a0a-b416-21a5f90f1409",
   "metadata": {},
   "source": [
    "## **Exercise 1.1** A first Quantum circuit\n",
    "\n",
    "Discuss the following Qiskit code (next cell) and represented circuit.\n",
    "1. What are the parts of the circuit (how does it compare to classical algorithms)?\n",
    "2. What is the expected behavior?"
   ]
  },
  {
   "cell_type": "code",
   "execution_count": 6,
   "id": "5429f750-21de-44ea-9eda-6b48b1998655",
   "metadata": {},
   "outputs": [
    {
     "data": {
      "text/plain": "<Figure size 370.906x284.278 with 1 Axes>",
      "image/png": "[encoded data removed]"
     },
     "execution_count": 6,
     "metadata": {},
     "output_type": "execute_result"
    }
   ],
   "source": [
    "qc = QuantumCircuit(2,1)\n",
    "\n",
    "# input\n",
    "qc.x(0)\n",
    "\n",
    "# processing\n",
    "qc.cx(0,1)\n",
    "\n",
    "# output\n",
    "qc.measure(1,0)\n",
    "\n",
    "# draw circuit\n",
    "qc.draw(output=\"mpl\")"
   ]
  },
  {
   "cell_type": "markdown",
   "id": "5436620b-edbf-4c42-a1d6-6a66021ffb40",
   "metadata": {},
   "source": [
    "## **Exercise 1.2** A first Quantum calculation\n",
    "\n",
    "Run the circuit from Exercise 1.1 (next cell). \n",
    "1. Interpret the result.\n",
    "2. Play around with the circuit by modifying inputs, processing gates, measurement."
   ]
  },
  {
   "cell_type": "code",
   "execution_count": 7,
   "id": "0c4262c6-f648-4173-a51a-3c518e74cea5",
   "metadata": {},
   "outputs": [
    {
     "data": {
      "text/plain": "{'1': 1024}"
     },
     "execution_count": 7,
     "metadata": {},
     "output_type": "execute_result"
    }
   ],
   "source": [
    "# run circuit\n",
    "sim = AerSimulator()\n",
    "job = sim.run(qc)\n",
    "result = job.result()\n",
    "result.get_counts()"
   ]
  },
  {
   "cell_type": "markdown",
   "id": "together-saint",
   "metadata": {},
   "source": [
    "## **Exercise 1.3** Complex numbers\n",
    "\n",
    "This exercise should refresh your knowledge and proficiency with complex numbers. \n",
    "Given $x=3+4i$ and $y=2−i$:\n",
    "\n",
    "1. Compute\n",
    "    - $x+y$\n",
    "    - $x\\cdot y$\n",
    "    - $\\overline{x}$ (complex conjugate of $x$)\n",
    "    - $\\overline{\\overline{x}}$ (complex conjugate of complex conjugate of $x$)\n",
    "    - $|x|$ and $\\arg(x)$ (argument), such that $x=|x|e^{i\\arg(x)}$\n",
    "    - $x\\cdot\\overline{x}$\n",
    "    - $\\dfrac{1}{x}$\n",
    "    \n",
    "2. Draw $x$ in the complex plane, and interpret $\\overline{x}$, $|x|$ and $\\arg(x)$ geometrically.\n",
    "\n",
    "3. How can one construct $x+y$ and $x\\cdot y$ geometrically in the complex plane?"
   ]
  },
  {
   "cell_type": "markdown",
   "id": "43727bdf-577d-4d67-8441-b574781b2e39",
   "metadata": {},
   "source": [
    "## **Exercise 1.4** Complex numbers with Python\n",
    "\n",
    "Solve Exercise 1.3 with help of Python (using the wire frame given by next cell)."
   ]
  },
  {
   "cell_type": "code",
   "execution_count": 8,
   "id": "2be2116b-1bf6-451a-95a9-582d043ea8e7",
   "metadata": {},
   "outputs": [
    {
     "data": {
      "text/plain": "<IPython.core.display.Math object>",
      "text/latex": "$\\displaystyle x+y=None$"
     },
     "metadata": {},
     "output_type": "display_data"
    },
    {
     "data": {
      "text/plain": "<IPython.core.display.Math object>",
      "text/latex": "$\\displaystyle x\\cdot y=None$"
     },
     "metadata": {},
     "output_type": "display_data"
    },
    {
     "data": {
      "text/plain": "<IPython.core.display.Math object>",
      "text/latex": "$\\displaystyle \\overline{x}=None$"
     },
     "metadata": {},
     "output_type": "display_data"
    },
    {
     "data": {
      "text/plain": "<IPython.core.display.Math object>",
      "text/latex": "$\\displaystyle x=None \\cdot e^{None\\cdot i}$"
     },
     "metadata": {},
     "output_type": "display_data"
    },
    {
     "data": {
      "text/plain": "<IPython.core.display.Math object>",
      "text/latex": "$\\displaystyle x\\cdot\\overline{x}=None$"
     },
     "metadata": {},
     "output_type": "display_data"
    },
    {
     "data": {
      "text/plain": "<IPython.core.display.Math object>",
      "text/latex": "$\\displaystyle 1/x=None$"
     },
     "metadata": {},
     "output_type": "display_data"
    },
    {
     "data": {
      "text/plain": "<Figure size 640x480 with 1 Axes>",
      "image/png": "[encoded data removed]"
     },
     "metadata": {},
     "output_type": "display_data"
    }
   ],
   "source": [
    "x = 3+4j\n",
    "y = 2-1j\n",
    "\n",
    "#########################\n",
    "# Insert your code here #\n",
    "#########################\n",
    "\n",
    "display_math(\"x+y=$val\", {\"val\": None})\n",
    "display_math(\"x\\\\cdot y=$val\", {\"val\": None})\n",
    "display_math(\"\\\\overline{x}=$val\", {\"val\": None})\n",
    "display_math(\"x=$abs \\\\cdot e^{$arg\\cdot i}\", {\"abs\": None, \"arg\": None})\n",
    "display_math(\"x\\\\cdot\\\\overline{x}=$val\", {\"val\": None})\n",
    "display_math(\"1/x=$val\", {\"val\": None})\n",
    "\n",
    "plt.xlabel(\"Real\")\n",
    "plt.xlim([-12, 12])\n",
    "plt.xticks(range(-12,13,2))\n",
    "plt.ylabel(\"Imaginary\")\n",
    "plt.ylim([-12, 12])\n",
    "plt.yticks(range(-12,13,2))\n",
    "\n",
    "plt.plot(0, 0, \"k.\")\n",
    "plt.plot(x.real, x.imag, \"ro\")\n",
    "plt.plot(y.real, y.imag, \"ro\")\n",
    "\n",
    "#########################\n",
    "# Insert your code here #\n",
    "#########################\n",
    "\n",
    "plt.show()"
   ]
  }
 ],
 "metadata": {
  "kernelspec": {
   "display_name": "Python 3 (ipykernel)",
   "language": "python",
   "name": "python3"
  },
  "language_info": {
   "codemirror_mode": {
    "name": "ipython",
    "version": 3
   },
   "file_extension": ".py",
   "mimetype": "text/x-python",
   "name": "python",
   "nbconvert_exporter": "python",
   "pygments_lexer": "ipython3",
   "version": "3.9.7"
  },
  "vscode": {
   "interpreter": {
    "hash": "b0fa6594d8f4cbf19f97940f81e996739fb7646882a419484c72d19e05852a7e"
   }
  },
  "widgets": {
   "application/vnd.jupyter.widget-state+json": {
    "state": {},
    "version_major": 2,
    "version_minor": 0
   }
  }
 },
 "nbformat": 4,
 "nbformat_minor": 5
}
